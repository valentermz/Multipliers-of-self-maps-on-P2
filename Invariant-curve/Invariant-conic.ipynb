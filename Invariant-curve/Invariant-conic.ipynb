{
 "cells": [
  {
   "cell_type": "markdown",
   "metadata": {},
   "source": [
    "# Examples of quadratic self-maps of $\\mathbb{P}^2$ with an invariant conic"
   ]
  },
  {
   "cell_type": "code",
   "execution_count": 13,
   "metadata": {},
   "outputs": [],
   "source": [
    "var('x0 x1 x2')\n",
    "coeff = var('p0 p1 p2 p3 p4 p5 q0 q1 q2 q3 q4 q5 r0 r1 r2 r3 r4 r5')"
   ]
  },
  {
   "cell_type": "code",
   "execution_count": 12,
   "metadata": {},
   "outputs": [
    {
     "data": {
      "text/plain": [
       "(p0, p1, p2, p3, p4, p5, q0, q1, q2, q3, q4, q5, r0, r1, r2, r3, r4, r5)"
      ]
     },
     "execution_count": 12,
     "metadata": {},
     "output_type": "execute_result"
    }
   ],
   "source": [
    "coeff"
   ]
  },
  {
   "cell_type": "code",
   "execution_count": 14,
   "metadata": {},
   "outputs": [],
   "source": [
    "g = x1*x2 - x0^2"
   ]
  },
  {
   "cell_type": "code",
   "execution_count": 15,
   "metadata": {},
   "outputs": [],
   "source": [
    "P = p0*x0^2 + p1*x0*x1 + p2*x0*x2 + p3*x1^2 + p4*x1*x2 + p5*x2^2\n",
    "Q = q0*x0^2 + q1*x0*x1 + q2*x0*x2 + q3*x1^2 + q4*x1*x2 + q5*x2^2\n",
    "R = r0*x0^2 + r1*x0*x1 + r2*x0*x2 + r3*x1^2 + r4*x1*x2 + r5*x2^2"
   ]
  },
  {
   "cell_type": "code",
   "execution_count": 23,
   "metadata": {},
   "outputs": [
    {
     "name": "stdout",
     "output_type": "stream",
     "text": [
      "Degree 0: -p5^2 + q5*r5\n",
      "\n",
      "Degree 1: -2*p2*p5 + q5*r2 + q2*r5\n",
      "\n",
      "Degree 2: -p2^2 - 2*p0*p5 - 2*p4*p5 + q5*r0 + q2*r2 + q5*r4 + q0*r5 + q4*r5\n",
      "\n",
      "Degree 3: -2*p0*p2 - 2*p2*p4 - 2*p1*p5 + q2*r0 + q5*r1 + q0*r2 + q4*r2 + q2*r4 + q1*r5\n",
      "\n",
      "Degree 4: -p0^2 - 2*p1*p2 - 2*p0*p4 - p4^2 - 2*p3*p5 + q0*r0 + q4*r0 + q2*r1 + q1*r2 + q5*r3 + q0*r4 + q4*r4 + q3*r5\n",
      "\n",
      "Degree 5: -2*p0*p1 - 2*p2*p3 - 2*p1*p4 + q1*r0 + q0*r1 + q4*r1 + q3*r2 + q2*r3 + q1*r4\n",
      "\n",
      "Degree 6: -p1^2 - 2*p0*p3 - 2*p3*p4 + q3*r0 + q1*r1 + q0*r3 + q4*r3 + q3*r4\n",
      "\n",
      "Degree 7: -2*p1*p3 + q3*r1 + q1*r3\n",
      "\n",
      "Degree 8: -p3^2 + q3*r3\n",
      "\n"
     ]
    }
   ],
   "source": [
    "var('t')\n",
    "\n",
    "composition = g.subs([x0==P, x1==Q, x2==R]).subs([x0==1, x1==t, x2==1/t])\n",
    "composition = composition.simplify_rational().numerator()\n",
    "\n",
    "TaylorCFS = []  # Taylor series expanssion wrt 't'\n",
    "\n",
    "current = composition\n",
    "for i in range(9):\n",
    "    coefficient = current.subs(t==0).factor()\n",
    "    print 'Degree {}: {}\\n'.format(i, coefficient)\n",
    "    TaylorCFS.append(coefficient)\n",
    "    current = diff(current, t) / (i + 1)\n",
    "    \n",
    "assert current == 0"
   ]
  },
  {
   "cell_type": "code",
   "execution_count": 24,
   "metadata": {},
   "outputs": [],
   "source": [
    "del (p0, p1, p2, p3, p4, p5, q0, q1, q2, q3, q4, q5, r0, r1, r2, r3, r4, r5)"
   ]
  },
  {
   "cell_type": "code",
   "execution_count": 25,
   "metadata": {},
   "outputs": [],
   "source": [
    "R.<p0, p1, p2, p3, p4, p5, q0, q1, q2, q3, q4, q5, r0, r1, r2, r3, r4, r5> = PolynomialRing(QQ, 18)"
   ]
  },
  {
   "cell_type": "code",
   "execution_count": 30,
   "metadata": {},
   "outputs": [
    {
     "name": "stdout",
     "output_type": "stream",
     "text": [
      "9\n"
     ]
    }
   ],
   "source": [
    "I = ideal(-p5^2 + q5*r5,\n",
    "          -2*p2*p5 + q5*r2 + q2*r5,\n",
    "          -p2^2 - 2*p0*p5 - 2*p4*p5 + q5*r0 + q2*r2 + q5*r4 + q0*r5 + q4*r5,\n",
    "          -2*p0*p2 - 2*p2*p4 - 2*p1*p5 + q2*r0 + q5*r1 + q0*r2 + q4*r2 + q2*r4 + q1*r5,\n",
    "          -p0^2 - 2*p1*p2 - 2*p0*p4 - p4^2 - 2*p3*p5 + q0*r0 + q4*r0 + q2*r1 + q1*r2 + q5*r3 + q0*r4 + q4*r4 + q3*r5,\n",
    "          -2*p0*p1 - 2*p2*p3 - 2*p1*p4 + q1*r0 + q0*r1 + q4*r1 + q3*r2 + q2*r3 + q1*r4,\n",
    "          -p1^2 - 2*p0*p3 - 2*p3*p4 + q3*r0 + q1*r1 + q0*r3 + q4*r3 + q3*r4,\n",
    "          -2*p1*p3 + q3*r1 + q1*r3,\n",
    "          -p3^2 + q3*r3\n",
    "         )\n",
    "\n",
    "print I.dimension()"
   ]
  }
 ],
 "metadata": {
  "kernelspec": {
   "display_name": "SageMath 8.7",
   "language": "",
   "name": "sagemath"
  },
  "language_info": {
   "codemirror_mode": {
    "name": "ipython",
    "version": 2
   },
   "file_extension": ".py",
   "mimetype": "text/x-python",
   "name": "python",
   "nbconvert_exporter": "python",
   "pygments_lexer": "ipython2",
   "version": "2.7.15"
  }
 },
 "nbformat": 4,
 "nbformat_minor": 2
}
