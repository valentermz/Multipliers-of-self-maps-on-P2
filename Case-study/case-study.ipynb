{
 "cells": [
  {
   "cell_type": "markdown",
   "metadata": {
    "deletable": true,
    "editable": true
   },
   "source": [
    "# Case study of a \"sufficiently generic\" example"
   ]
  },
  {
   "cell_type": "markdown",
   "metadata": {
    "deletable": true,
    "editable": true
   },
   "source": [
    "Let us consider the following endomorphsim\n",
    "\n",
    "$f \\;\\colon\\; [z_0:z_1:z_2] \\;\\longmapsto\\; [z_0(z_0 + 4z_1 + 2z_2) : z_1(2z_0 + 3z_1) : z_2(4z_0 + 5z_1 - z_2)]$\n",
    "\n",
    "This map has three invariant lines, but we work with respect to the line $\\{z_0=0\\}$."
   ]
  },
  {
   "cell_type": "markdown",
   "metadata": {
    "deletable": true,
    "editable": true
   },
   "source": [
    "**Remark:** According to the \"normal form\" used in the paper, the above map $f$ is defined by the following coefficients:\n",
    "\n",
    "```python\n",
    "a = 4\n",
    "b = 2\n",
    "c_0 = 1\n",
    "c_1 = 2\n",
    "c_2 = 0\n",
    "c_3 = 0\n",
    "c_4 = -1\n",
    "c_5 = 3\n",
    "```"
   ]
  },
  {
   "cell_type": "code",
   "execution_count": 1,
   "metadata": {
    "collapsed": false,
    "deletable": true,
    "editable": true
   },
   "outputs": [
    {
     "data": {
      "text/plain": [
       "(z_0, z_1, z_2)"
      ]
     },
     "execution_count": 1,
     "metadata": {},
     "output_type": "execute_result"
    }
   ],
   "source": [
    "var('z_0 z_1 z_2')"
   ]
  },
  {
   "cell_type": "code",
   "execution_count": 2,
   "metadata": {
    "collapsed": true,
    "deletable": true,
    "editable": true
   },
   "outputs": [],
   "source": [
    "f_0 = z_0*(z_0 + 4*z_1 + 2*z_2)\n",
    "f_1 = z_1*(2*z_0 + 3*z_1)\n",
    "f_2 = z_2*(4*z_0 + 5*z_1 - z_2)"
   ]
  },
  {
   "cell_type": "markdown",
   "metadata": {
    "deletable": true,
    "editable": true
   },
   "source": [
    "## Part I. Compute the values of the invariants $t_i, d_i$"
   ]
  },
  {
   "cell_type": "markdown",
   "metadata": {
    "collapsed": true,
    "deletable": true,
    "editable": true
   },
   "source": [
    "If we make $z_0=1$ the map $f$ is given by $(f_1/f_0, f_2/f_0)$."
   ]
  },
  {
   "cell_type": "code",
   "execution_count": 3,
   "metadata": {
    "collapsed": true,
    "deletable": true,
    "editable": true
   },
   "outputs": [],
   "source": [
    "F_chart0 = [(f_1/f_0).subs(z_0==1), (f_2/f_0).subs(z_0==1)]"
   ]
  },
  {
   "cell_type": "code",
   "execution_count": 4,
   "metadata": {
    "collapsed": false,
    "deletable": true,
    "editable": true
   },
   "outputs": [
    {
     "data": {
      "text/plain": [
       "[[z_1 == 0, z_2 == 0], [z_1 == 1, z_2 == 0], [z_1 == 0, z_2 == 1], [z_1 == (-3/5), z_2 == (4/5)]]"
      ]
     },
     "execution_count": 4,
     "metadata": {},
     "output_type": "execute_result"
    }
   ],
   "source": [
    "# The fixed points in this chart are:\n",
    "S = solve([F_chart0[0]-z_1, F_chart0[1]-z_2], [z_1,z_2])\n",
    "S"
   ]
  },
  {
   "cell_type": "code",
   "execution_count": 5,
   "metadata": {
    "collapsed": true,
    "deletable": true,
    "editable": true
   },
   "outputs": [],
   "source": [
    "DF_chart0 = matrix([\n",
    "    (diff(F_chart0[0],z_1), diff(F_chart0[0],z_2)),\n",
    "    (diff(F_chart0[1],z_1), diff(F_chart0[1],z_2))\n",
    "]).simplify_rational()"
   ]
  },
  {
   "cell_type": "code",
   "execution_count": 6,
   "metadata": {
    "collapsed": false,
    "deletable": true,
    "editable": true
   },
   "outputs": [
    {
     "name": "stdout",
     "output_type": "stream",
     "text": [
      "I-df at p_0:\n",
      "[-1  0]\n",
      "[ 0 -3]\n",
      "\n",
      "I-df at p_1:\n",
      "[ 1/5  2/5]\n",
      "[   0 -4/5]\n",
      "\n",
      "I-df at p_2:\n",
      "[ 1/3    0]\n",
      "[-1/3    1]\n",
      "\n",
      "I-df at p_3:\n",
      "[-3 -6]\n",
      "[-4 12]\n",
      "\n"
     ]
    }
   ],
   "source": [
    "for k in range(4):\n",
    "    print 'I-df at p_{}:'.format(k)\n",
    "    print (identity_matrix(2) - DF_chart0.subs(S[k]))\n",
    "    print ''"
   ]
  },
  {
   "cell_type": "markdown",
   "metadata": {
    "deletable": true,
    "editable": true
   },
   "source": [
    "The spectra of $f$ in the distinguished affine chart is:"
   ]
  },
  {
   "cell_type": "code",
   "execution_count": 7,
   "metadata": {
    "collapsed": false,
    "deletable": true,
    "editable": true
   },
   "outputs": [
    {
     "name": "stdout",
     "output_type": "stream",
     "text": [
      "t_0 = -4\n",
      "d_0 = 3\n",
      "\n",
      "t_1 = -3/5\n",
      "d_1 = -4/25\n",
      "\n",
      "t_2 = 4/3\n",
      "d_2 = 1/3\n",
      "\n",
      "t_3 = 9\n",
      "d_3 = -60\n",
      "\n"
     ]
    }
   ],
   "source": [
    "t = [(identity_matrix(2) - DF_chart0.subs(s)).trace() for s in S]\n",
    "d = [(identity_matrix(2) - DF_chart0).subs(s).determinant() for s in S]\n",
    "\n",
    "for k in range(4):\n",
    "    print 't_{} = {}'.format(k, t[k])\n",
    "    print 'd_{} = {}\\n'.format(k, d[k])"
   ]
  },
  {
   "cell_type": "markdown",
   "metadata": {
    "deletable": true,
    "editable": true
   },
   "source": [
    "### Compute the  values of $\\beta_i$"
   ]
  },
  {
   "cell_type": "code",
   "execution_count": 8,
   "metadata": {
    "collapsed": false,
    "deletable": true,
    "editable": true
   },
   "outputs": [],
   "source": [
    "b_0 = 1 - sum(1/d[k] for k in range(4))\n",
    "b_1 = 3 - sum(t[k]/d[k] for k in range(4))\n",
    "b_2 = 9 - sum(t[k]^2/d[k] for k in range(4))"
   ]
  },
  {
   "cell_type": "code",
   "execution_count": 9,
   "metadata": {
    "collapsed": false,
    "deletable": true,
    "editable": true
   },
   "outputs": [
    {
     "name": "stdout",
     "output_type": "stream",
     "text": [
      "(59/15, -49/15, 29/15)\n"
     ]
    }
   ],
   "source": [
    "print (b_0, b_1, b_2)"
   ]
  },
  {
   "cell_type": "markdown",
   "metadata": {
    "deletable": true,
    "editable": true
   },
   "source": [
    "## Part II. Compute the values of the invariants $u_i, v_i$ for $i=4,5,6$"
   ]
  },
  {
   "cell_type": "markdown",
   "metadata": {
    "deletable": true,
    "editable": true
   },
   "source": [
    "If we make $z_1=1$, the map $f$ is given by $(z_0,z_2)\\mapsto(f_0/f_1, f_2/f_1)$"
   ]
  },
  {
   "cell_type": "code",
   "execution_count": 10,
   "metadata": {
    "collapsed": true,
    "deletable": true,
    "editable": true
   },
   "outputs": [],
   "source": [
    "F_chart1 = [(f_0/f_1).subs(z_1==1), (f_2/f_1).subs(z_1==1)]"
   ]
  },
  {
   "cell_type": "code",
   "execution_count": 11,
   "metadata": {
    "collapsed": true,
    "deletable": true,
    "editable": true
   },
   "outputs": [],
   "source": [
    "DF_chart1 = matrix([\n",
    "    (diff(F_chart1[0],z_0), diff(F_chart1[0],z_2)),\n",
    "    (diff(F_chart1[1],z_0), diff(F_chart1[1],z_2))\n",
    "]).simplify_rational()"
   ]
  },
  {
   "cell_type": "code",
   "execution_count": 12,
   "metadata": {
    "collapsed": false,
    "deletable": true,
    "editable": true
   },
   "outputs": [
    {
     "data": {
      "text/plain": [
       "[z_2 == 0, z_2 == 2]"
      ]
     },
     "execution_count": 12,
     "metadata": {},
     "output_type": "execute_result"
    }
   ],
   "source": [
    "# In this chart, the fixed points on the invariant line are given by the zeroes of the following polynomial:\n",
    "delta = (f_2 - z_2*f_1).subs([z_0==0, z_1==1]).expand().factor()\n",
    "solve(delta, z_2)"
   ]
  },
  {
   "cell_type": "markdown",
   "metadata": {
    "deletable": true,
    "editable": true
   },
   "source": [
    "Now let's make $z_2=1$ to look at the fixed point $[0:0:1]$"
   ]
  },
  {
   "cell_type": "code",
   "execution_count": 13,
   "metadata": {
    "collapsed": true,
    "deletable": true,
    "editable": true
   },
   "outputs": [],
   "source": [
    "F_chart2  = [(f_0/f_2).subs(z_2==1), (f_1/f_2).subs(z_2==1)]"
   ]
  },
  {
   "cell_type": "code",
   "execution_count": 14,
   "metadata": {
    "collapsed": true,
    "deletable": true,
    "editable": true
   },
   "outputs": [],
   "source": [
    "DF_chart2 = matrix([\n",
    "    (diff(F_chart2[0],z_0), diff(F_chart2[0],z_1)),\n",
    "    (diff(F_chart2[1],z_0), diff(F_chart2[1],z_1))\n",
    "]).simplify_rational()"
   ]
  },
  {
   "cell_type": "markdown",
   "metadata": {
    "deletable": true,
    "editable": true
   },
   "source": [
    "The spectrum of the following matrices defines the values $(u_i,v_i)$ for $i=4,5,6$."
   ]
  },
  {
   "cell_type": "code",
   "execution_count": 15,
   "metadata": {
    "collapsed": false,
    "deletable": true,
    "editable": true
   },
   "outputs": [
    {
     "name": "stdout",
     "output_type": "stream",
     "text": [
      "I-df at p_4:\n",
      "[-1/3    0]\n",
      "[   0 -2/3] \n",
      "\n",
      "I-df at p_5:\n",
      "[-5/3    0]\n",
      "[-4/3  2/3] \n",
      "\n",
      "I-df at p_6:\n",
      "[3 0]\n",
      "[0 1]\n"
     ]
    }
   ],
   "source": [
    "print 'I-df at p_4:\\n', (identity_matrix(2) - DF_chart1.subs([z_0==0, z_2==0])), '\\n'\n",
    "print 'I-df at p_5:\\n', (identity_matrix(2) - DF_chart1.subs([z_0==0, z_2==2])), '\\n'\n",
    "print 'I-df at p_6:\\n', (identity_matrix(2) - DF_chart2.subs([z_0==0, z_1==0]))"
   ]
  },
  {
   "cell_type": "code",
   "execution_count": 16,
   "metadata": {
    "collapsed": false,
    "deletable": true,
    "editable": true
   },
   "outputs": [
    {
     "name": "stdout",
     "output_type": "stream",
     "text": [
      "u_4 = -2/3\n",
      "v_4 = -1/3\n",
      "\n",
      "u_5 = 2/3\n",
      "v_5 = -5/3\n",
      "\n",
      "u_6 = 1\n",
      "v_6 = 3\n",
      "\n"
     ]
    }
   ],
   "source": [
    "u = ['']*7\n",
    "v = ['']*7\n",
    "\n",
    "u[4] = -2/3; v[4] = -1/3\n",
    "u[5] = 2/3; v[5] = -5/3\n",
    "u[6] = 1; v[6] = 3\n",
    "\n",
    "for k in range(4,7):\n",
    "    print 'u_{} = {}'.format(k,u[k])\n",
    "    print 'v_{} = {}\\n'.format(k,v[k])"
   ]
  },
  {
   "cell_type": "markdown",
   "metadata": {
    "deletable": true,
    "editable": true
   },
   "source": [
    "## Part II. Compute the values of the invariants $p,q,r,s$"
   ]
  },
  {
   "cell_type": "code",
   "execution_count": 17,
   "metadata": {
    "collapsed": true,
    "deletable": true,
    "editable": true
   },
   "outputs": [],
   "source": [
    "p = u[4] + u[5] + u[6]\n",
    "q = u[4]*u[5]*u[6]\n",
    "r = v[4] + v[5] + v[6]\n",
    "s = u[4]*(v[5] + v[6]) + u[5]*(v[4] + v[6]) + u[6]*(v[4] + v[5])"
   ]
  },
  {
   "cell_type": "code",
   "execution_count": 18,
   "metadata": {
    "collapsed": false,
    "deletable": true,
    "editable": true
   },
   "outputs": [],
   "source": [
    "inv_names = ['p', 'q', 'r', 's']\n",
    "invariants = [p, q, r, s]"
   ]
  },
  {
   "cell_type": "code",
   "execution_count": 19,
   "metadata": {
    "collapsed": false,
    "deletable": true,
    "editable": true
   },
   "outputs": [
    {
     "name": "stdout",
     "output_type": "stream",
     "text": [
      "p = 1\n",
      "\n",
      "q = -4/9\n",
      "\n",
      "r = 1\n",
      "\n",
      "s = -10/9\n",
      "\n"
     ]
    }
   ],
   "source": [
    "for k in range(4):\n",
    "    print '{} = {}\\n'.format(inv_names[k], invariants[k])"
   ]
  },
  {
   "cell_type": "markdown",
   "metadata": {
    "deletable": true,
    "editable": true
   },
   "source": [
    "## Part III. Analyze the polynomials $h$"
   ]
  },
  {
   "cell_type": "markdown",
   "metadata": {
    "deletable": true,
    "editable": true
   },
   "source": [
    "### Polynomials $h$\n",
    "\n",
    "The computation for the polynomials $h$ is described in the program `'Compute-h-interactive.ipynb'`. Below we run the *script version* in a subrocess."
   ]
  },
  {
   "cell_type": "code",
   "execution_count": 20,
   "metadata": {
    "collapsed": false,
    "deletable": true,
    "editable": true,
    "scrolled": true
   },
   "outputs": [
    {
     "name": "stdout",
     "output_type": "stream",
     "text": [
      "Input given: [-4, 3, -3/5, -4/25, 4/3, 1/3, 9, -60]\n",
      "td_format = True \n",
      "\n",
      "Final result:\n",
      "\n",
      "hp = 3304458636693875651644773*p^4 - 23379088345478790415995340*p^3 + 49551679403386908799808694*p^2 - 39615490609470050079352860*p + 10138440914868056043894733 \n",
      "\n",
      "hq = 802983448716611783349679839*q^4 + 6057061832873045850450465888*q^3 + 8220892437890168859863219744*q^2 + 1049813648791026016967518720*q - 656868792374273004661408000 \n",
      "\n",
      "hr = 3304458636693875651644773*r^4 + 236886089402261035384796*r^3 - 2361480475447712921087794*r^2 - 1054408391045835895722692*r - 125455859602587870219083 \n",
      "\n",
      "hs = 802983448716611783349679839*s^4 - 255708691033085259944247216*s^3 - 1889198858093497242051156664*s^2 - 605423311222765579888256320*s + 85011752062106601163535600 \n",
      "\n"
     ]
    }
   ],
   "source": [
    "%%script sage \"../Compute-h/compute-h-script.sage\"\n",
    "# Excecute script in sage subrocess"
   ]
  },
  {
   "cell_type": "markdown",
   "metadata": {
    "deletable": true,
    "editable": true
   },
   "source": [
    "Below we verify that the discriminant of `hp` is not zero:"
   ]
  },
  {
   "cell_type": "code",
   "execution_count": 21,
   "metadata": {
    "collapsed": true,
    "deletable": true,
    "editable": true
   },
   "outputs": [],
   "source": [
    "del p"
   ]
  },
  {
   "cell_type": "code",
   "execution_count": 22,
   "metadata": {
    "collapsed": false,
    "deletable": true,
    "editable": true
   },
   "outputs": [
    {
     "name": "stdout",
     "output_type": "stream",
     "text": [
      "66477304082462489350087283812863009916933956743212384949051342887633881083978236796690610934444128089161825175089935304101170476980838990872576000000\n"
     ]
    }
   ],
   "source": [
    "S.<p> = PolynomialRing(QQ)\n",
    "hp = 3304458636693875651644773*p^4 - 23379088345478790415995340*p^3 + 49551679403386908799808694*p^2 - 39615490609470050079352860*p + 10138440914868056043894733\n",
    "print hp.discriminant()"
   ]
  },
  {
   "cell_type": "code",
   "execution_count": 23,
   "metadata": {
    "collapsed": false,
    "deletable": true,
    "editable": true
   },
   "outputs": [
    {
     "data": {
      "text/plain": [
       "<type 'sage.symbolic.expression.Expression'>"
      ]
     },
     "execution_count": 23,
     "metadata": {},
     "output_type": "execute_result"
    }
   ],
   "source": [
    "type(t[0])"
   ]
  },
  {
   "cell_type": "markdown",
   "metadata": {
    "deletable": true,
    "editable": true
   },
   "source": [
    "## Part IV. Compute the other endomorphisms that share affine spectra"
   ]
  },
  {
   "cell_type": "markdown",
   "metadata": {
    "deletable": true,
    "editable": true
   },
   "source": [
    "We compute a Gröbner basis of the ideal of all relations involving the affine spectra."
   ]
  },
  {
   "cell_type": "code",
   "execution_count": 24,
   "metadata": {
    "collapsed": false,
    "deletable": true,
    "editable": true
   },
   "outputs": [],
   "source": [
    "t_0, t_1, t_2, t_3 = (-4, -3/5, 4/3, 9)\n",
    "d_0, d_1, d_2, d_3 = (3, -4/25, 1/3, -60)"
   ]
  },
  {
   "cell_type": "code",
   "execution_count": 25,
   "metadata": {
    "collapsed": true,
    "deletable": true,
    "editable": true
   },
   "outputs": [],
   "source": [
    "# Define multivariate polynomial ring with rational coefficients\n",
    "R = QQ['w_0,w_1,w_2,w_3,x,y,c_0,c_1,c_2,c_3,c_4,c_5,a,b']\n",
    "(w_0, w_1, w_2, w_3, x, y, c_0, c_1, c_2, c_3, c_4, c_5, a, b) = R.gens()\n",
    "\n",
    "# Relations coming from Jacobi formula:\n",
    "Rel = [0 for i in range(5)]\n",
    "Rel[0] = a^2*d_3*x^2 + 2*a*b*d_3*x*y + b^2*d_3*y^2 + a^2*d_1*x + 2*a*d_1*x + 2*a*d_3*x + 2*b*d_3*y + d_1*x + d_3\n",
    "Rel[1] = a^2*d_3*x^2 + 2*a*b*d_3*x*y + b^2*d_3*y^2 + b^2*d_2*y + 2*a*d_3*x + 2*b*d_2*y + 2*b*d_3*y + d_2*y + d_3\n",
    "Rel[2] = a^2*b*d_1*d_2*d_3*x + a*b^2*d_1*d_2*d_3*y + a^2*d_0*d_1*d_3*x + a*b*d_0*d_2*d_3*x + a^2*d_1*d_2*d_3*x + a*b*d_1*d_2*d_3*x + a*b*d_0*d_1*d_3*y + b^2*d_0*d_2*d_3*y + a*b*d_1*d_2*d_3*y + b^2*d_1*d_2*d_3*y + a*b*d_0*d_1*d_2 + a*b*d_1*d_2*d_3 + a*d_0*d_1*d_3*x + a*d_0*d_2*d_3*x + a*d_1*d_2*d_3*x + b*d_0*d_1*d_3*y + b*d_0*d_2*d_3*y + b*d_1*d_2*d_3*y + a*d_0*d_1*d_2 + b*d_0*d_1*d_2 + a*d_0*d_1*d_3 + b*d_0*d_2*d_3 + a*d_1*d_2*d_3 + b*d_1*d_2*d_3 + d_0*d_1*d_2 + d_0*d_1*d_3 + d_0*d_2*d_3 + d_1*d_2*d_3\n",
    "Rel[3] = a^2*b*d_1*d_2*d_3*t_0*x + a*b^2*d_1*d_2*d_3*t_0*y + a^2*d_1*d_2*d_3*t_0*x + a*b*d_1*d_2*d_3*t_0*x + a*b*d_0*d_2*d_3*t_1*x + a^2*d_0*d_1*d_3*t_2*x + a*b*d_1*d_2*d_3*t_0*y + b^2*d_1*d_2*d_3*t_0*y + b^2*d_0*d_2*d_3*t_1*y + a*b*d_0*d_1*d_3*t_2*y + a*b*d_1*d_2*d_3*t_0 + a*b*d_0*d_1*d_2*t_3 + a*d_1*d_2*d_3*t_0*x + a*d_0*d_2*d_3*t_1*x + a*d_0*d_1*d_3*t_2*x + b*d_1*d_2*d_3*t_0*y + b*d_0*d_2*d_3*t_1*y + b*d_0*d_1*d_3*t_2*y + a*d_1*d_2*d_3*t_0 + b*d_1*d_2*d_3*t_0 + b*d_0*d_2*d_3*t_1 + a*d_0*d_1*d_3*t_2 + a*d_0*d_1*d_2*t_3 + b*d_0*d_1*d_2*t_3 + d_1*d_2*d_3*t_0 + d_0*d_2*d_3*t_1 + d_0*d_1*d_3*t_2 + d_0*d_1*d_2*t_3\n",
    "Rel[4] = a^4*b^2*d_1*d_2*d_3*x^2 + 2*a^3*b^3*d_1*d_2*d_3*x*y + a^2*b^4*d_1*d_2*d_3*y^2 + 2*a^4*b*d_1*d_2*d_3*x^2 + 2*a^3*b^2*d_1*d_2*d_3*x^2 + 4*a^3*b^2*d_1*d_2*d_3*x*y + 4*a^2*b^3*d_1*d_2*d_3*x*y + 2*a^2*b^3*d_1*d_2*d_3*y^2 + 2*a*b^4*d_1*d_2*d_3*y^2 + 2*a^3*b^2*d_1*d_2*d_3*x + a^4*d_0*d_1*d_3*x^2 + a^2*b^2*d_0*d_2*d_3*x^2 + a^4*d_1*d_2*d_3*x^2 + 4*a^3*b*d_1*d_2*d_3*x^2 + a^2*b^2*d_1*d_2*d_3*x^2 + 2*a^2*b^3*d_1*d_2*d_3*y + 2*a^3*b*d_0*d_1*d_3*x*y + 2*a*b^3*d_0*d_2*d_3*x*y + 2*a^3*b*d_1*d_2*d_3*x*y + 8*a^2*b^2*d_1*d_2*d_3*x*y + 2*a*b^3*d_1*d_2*d_3*x*y + a^2*b^2*d_0*d_1*d_3*y^2 + b^4*d_0*d_2*d_3*y^2 + a^2*b^2*d_1*d_2*d_3*y^2 + 4*a*b^3*d_1*d_2*d_3*y^2 + b^4*d_1*d_2*d_3*y^2 + 4*a^3*b*d_1*d_2*d_3*x + 4*a^2*b^2*d_1*d_2*d_3*x + 2*a^3*d_0*d_1*d_3*x^2 + 2*a^2*b*d_0*d_2*d_3*x^2 + 2*a^3*d_1*d_2*d_3*x^2 + 2*a^2*b*d_1*d_2*d_3*x^2 + 4*a^2*b^2*d_1*d_2*d_3*y + 4*a*b^3*d_1*d_2*d_3*y + 4*a^2*b*d_0*d_1*d_3*x*y + 4*a*b^2*d_0*d_2*d_3*x*y + 4*a^2*b*d_1*d_2*d_3*x*y + 4*a*b^2*d_1*d_2*d_3*x*y + 2*a*b^2*d_0*d_1*d_3*y^2 + 2*b^3*d_0*d_2*d_3*y^2 + 2*a*b^2*d_1*d_2*d_3*y^2 + 2*b^3*d_1*d_2*d_3*y^2 + a^2*b^2*d_0*d_1*d_2 + a^2*b^2*d_1*d_2*d_3 + 2*a^3*d_0*d_1*d_3*x + 2*a*b^2*d_0*d_2*d_3*x + 2*a^3*d_1*d_2*d_3*x + 8*a^2*b*d_1*d_2*d_3*x + 2*a*b^2*d_1*d_2*d_3*x + a^2*d_0*d_1*d_3*x^2 + a^2*d_0*d_2*d_3*x^2 + a^2*d_1*d_2*d_3*x^2 + 2*a^2*b*d_0*d_1*d_3*y + 2*b^3*d_0*d_2*d_3*y + 2*a^2*b*d_1*d_2*d_3*y + 8*a*b^2*d_1*d_2*d_3*y + 2*b^3*d_1*d_2*d_3*y + 2*a*b*d_0*d_1*d_3*x*y + 2*a*b*d_0*d_2*d_3*x*y + 2*a*b*d_1*d_2*d_3*x*y + b^2*d_0*d_1*d_3*y^2 + b^2*d_0*d_2*d_3*y^2 + b^2*d_1*d_2*d_3*y^2 + 2*a^2*b*d_0*d_1*d_2 + 2*a*b^2*d_0*d_1*d_2 + 2*a^2*b*d_1*d_2*d_3 + 2*a*b^2*d_1*d_2*d_3 + 4*a^2*d_0*d_1*d_3*x + 4*a*b*d_0*d_2*d_3*x + 4*a^2*d_1*d_2*d_3*x + 4*a*b*d_1*d_2*d_3*x + 4*a*b*d_0*d_1*d_3*y + 4*b^2*d_0*d_2*d_3*y + 4*a*b*d_1*d_2*d_3*y + 4*b^2*d_1*d_2*d_3*y + a^2*d_0*d_1*d_2 + 4*a*b*d_0*d_1*d_2 + b^2*d_0*d_1*d_2 + a^2*d_0*d_1*d_3 + b^2*d_0*d_2*d_3 + a^2*d_1*d_2*d_3 + 4*a*b*d_1*d_2*d_3 + b^2*d_1*d_2*d_3 + 2*a*d_0*d_1*d_3*x + 2*a*d_0*d_2*d_3*x + 2*a*d_1*d_2*d_3*x + 2*b*d_0*d_1*d_3*y + 2*b*d_0*d_2*d_3*y + 2*b*d_1*d_2*d_3*y + 2*a*d_0*d_1*d_2 + 2*b*d_0*d_1*d_2 + 2*a*d_0*d_1*d_3 + 2*b*d_0*d_2*d_3 + 2*a*d_1*d_2*d_3 + 2*b*d_1*d_2*d_3 + d_0*d_1*d_2 + d_0*d_1*d_3 + d_0*d_2*d_3 + d_1*d_2*d_3\n",
    "\n",
    "# Traces and determinants of auxiliary vector field H\n",
    "T = [0 for i in range(4)]\n",
    "D = [0 for i in range(4)]\n",
    "T[0] = t_0\n",
    "T[1] = t_1*(a+1)\n",
    "T[2] = t_2*(b+1)\n",
    "D[0] = d_0\n",
    "D[1] = d_1*(a+1)^2\n",
    "D[2] = d_2*(b+1)^2\n",
    "\n",
    "# Comparing with the known formulas for T_i, D_i we get these equations:\n",
    "Eq = [0 for i in range(6)]\n",
    "Eq[0] = T[0] - (-c_0-c_5)\n",
    "Eq[1] = T[1] - (c_0+c_4-c_5)\n",
    "Eq[2] = T[2] - (-c_0+c_1+c_5)\n",
    "Eq[3] = D[0] - (-c_2*c_3+c_0*c_5)\n",
    "Eq[4] = D[1] - (-c_1*c_3+c_2*c_3+c_0*c_4-c_0*c_5)\n",
    "Eq[5] = D[2] - (c_2*c_3-c_2*c_4-c_0*c_5+c_1*c_5)\n",
    "\n",
    "# Genericity assumptions: a+1, b+1, a+b+1 and x+y-1 are non-zero\n",
    "gc = [(a+1)*w_0-1, (b+1)*w_1-1, (a+b+1)*w_2-1, (x+y-1)*w_3-1]"
   ]
  },
  {
   "cell_type": "code",
   "execution_count": 26,
   "metadata": {
    "collapsed": false,
    "deletable": true,
    "editable": true
   },
   "outputs": [
    {
     "name": "stdout",
     "output_type": "stream",
     "text": [
      "CPU times: user 204 ms, sys: 0 ns, total: 204 ms\n",
      "Wall time: 204 ms\n"
     ]
    }
   ],
   "source": [
    "%%time\n",
    "\n",
    "# Ideal of all relations:\n",
    "I = ideal(Rel + Eq + gc)\n",
    "\n",
    "# Eliminate variables w_i, x, y\n",
    "J = I.elimination_ideal([w_0,w_1,w_2,w_3])"
   ]
  },
  {
   "cell_type": "markdown",
   "metadata": {
    "deletable": true,
    "editable": true
   },
   "source": [
    "### A Gröbner basis for the ideal of all relations"
   ]
  },
  {
   "cell_type": "code",
   "execution_count": 27,
   "metadata": {
    "collapsed": false,
    "deletable": true,
    "editable": true
   },
   "outputs": [
    {
     "data": {
      "text/plain": [
       "[79596*a - 39905*b - 238574, 26532*c_4 - 53064*c_5 + 7981*b + 169762, 38223596345473217398442*c_2 - 182867265948239009340984*c_3 + 213345143606278844231148*c_5 + 5407470166298762216809*b - 650850371151434057127062, 3*c_1 + 6*c_5 - 4*b - 16, c_0 + c_5 - 4, 62977005*y + 4931564*b - 60244732, 62977005*x - 2476192*b + 42738587, 347*b^2 - 4628*b + 7868, 33811444235708*c_5*b + 379557324161928*c_3 - 510439766660332*c_5 - 120014962774839*b + 1568480560116426, 194878641128*c_3*b + 342885251240*c_3 - 854749622412*c_5 - 124941796805*b + 2814132460846, 227758858318743035015276*c_5^2 + 935416089015092731271016*c_3 - 2002354203792580326543956*c_5 - 74811527391998085751055*b + 4106855941293049835996494, 26721695083852800486621889123104*c_3*c_5 + 24717126815727978762430705949544*c_3 - 60011958882844242457228027584756*c_5 - 6274582532276236815973062560155*b + 192585041713085201003630207874578, 46955625384713496315491751447165602201953632*c_3^2 + 179926771712143141101615812008840061662846824*c_3 - 82090920116891369093046457293029265945780852*c_5 - 10529725943566552061050507317495620491207195*b + 267332212237807211401240386514079038819756946]"
      ]
     },
     "execution_count": 27,
     "metadata": {},
     "output_type": "execute_result"
    }
   ],
   "source": [
    "J.gens()"
   ]
  },
  {
   "cell_type": "markdown",
   "metadata": {
    "deletable": true,
    "editable": true
   },
   "source": [
    "Redefine `x,y,a,b,c_i` as symbolic sage expressions:"
   ]
  },
  {
   "cell_type": "code",
   "execution_count": 28,
   "metadata": {
    "collapsed": true,
    "deletable": true,
    "editable": true
   },
   "outputs": [],
   "source": [
    "del (x, y, a, b, c_0, c_1, c_2, c_3, c_4, c_5)"
   ]
  },
  {
   "cell_type": "code",
   "execution_count": 29,
   "metadata": {
    "collapsed": false,
    "deletable": true,
    "editable": true
   },
   "outputs": [
    {
     "data": {
      "text/plain": [
       "(x, y, a, b, c_0, c_1, c_2, c_3, c_4, c_5)"
      ]
     },
     "execution_count": 29,
     "metadata": {},
     "output_type": "execute_result"
    }
   ],
   "source": [
    "var('x y a b c_0 c_1 c_2 c_3 c_4 c_5')"
   ]
  },
  {
   "cell_type": "code",
   "execution_count": 30,
   "metadata": {
    "collapsed": true,
    "deletable": true,
    "editable": true
   },
   "outputs": [],
   "source": [
    "gb = [79596*a - 39905*b - 238574, 26532*c_4 - 53064*c_5 + 7981*b + 169762, 38223596345473217398442*c_2 - 182867265948239009340984*c_3 + 213345143606278844231148*c_5 + 5407470166298762216809*b - 650850371151434057127062, 3*c_1 + 6*c_5 - 4*b - 16, c_0 + c_5 - 4, 62977005*y + 4931564*b - 60244732, 62977005*x - 2476192*b + 42738587, 347*b^2 - 4628*b + 7868, 33811444235708*c_5*b + 379557324161928*c_3 - 510439766660332*c_5 - 120014962774839*b + 1568480560116426, 194878641128*c_3*b + 342885251240*c_3 - 854749622412*c_5 - 124941796805*b + 2814132460846, 227758858318743035015276*c_5^2 + 935416089015092731271016*c_3 - 2002354203792580326543956*c_5 - 74811527391998085751055*b + 4106855941293049835996494, 26721695083852800486621889123104*c_3*c_5 + 24717126815727978762430705949544*c_3 - 60011958882844242457228027584756*c_5 - 6274582532276236815973062560155*b + 192585041713085201003630207874578, 46955625384713496315491751447165602201953632*c_3^2 + 179926771712143141101615812008840061662846824*c_3 - 82090920116891369093046457293029265945780852*c_5 - 10529725943566552061050507317495620491207195*b + 267332212237807211401240386514079038819756946]"
   ]
  },
  {
   "cell_type": "markdown",
   "metadata": {
    "deletable": true,
    "editable": true
   },
   "source": [
    "### We now recover the four endomorphisms with given `t,d` using `solve`"
   ]
  },
  {
   "cell_type": "code",
   "execution_count": 31,
   "metadata": {
    "collapsed": false,
    "deletable": true,
    "editable": true
   },
   "outputs": [
    {
     "name": "stdout",
     "output_type": "stream",
     "text": [
      "[x == (-1629507/6997445), y == (481636/6997445), a == (6398/737), b == (3934/347), c_0 == 1/1638011917*sqrt(4537169131306335409) + 478212014/1638011917, c_1 == 2/1638011917*sqrt(4537169131306335409) + 7408090619156/568390135199, c_2 == 3122005051440/1285121980778978763877*sqrt(4537169131306335409) - 2508185118075640977600/1285121980778978763877, c_3 == -1176976662607/5756661297795093534222*sqrt(4537169131306335409) + 3996350803241780508071/5756661297795093534222, c_4 == -2/1638011917*sqrt(4537169131306335409) - 2888354393997/1207214782829, c_5 == -1/1638011917*sqrt(4537169131306335409) + 6073835654/1638011917] \n",
      "\n",
      "[x == (-1629507/6997445), y == (481636/6997445), a == (6398/737), b == (3934/347), c_0 == -1/1638011917*sqrt(4537169131306335409) + 478212014/1638011917, c_1 == -2/1638011917*sqrt(4537169131306335409) + 7408090619156/568390135199, c_2 == -3122005051440/1285121980778978763877*sqrt(4537169131306335409) - 2508185118075640977600/1285121980778978763877, c_3 == 1176976662607/5756661297795093534222*sqrt(4537169131306335409) + 3996350803241780508071/5756661297795093534222, c_4 == 2/1638011917*sqrt(4537169131306335409) - 2888354393997/1207214782829, c_5 == 1/1638011917*sqrt(4537169131306335409) + 6073835654/1638011917] \n",
      "\n",
      "[x == (-3/5), y == (4/5), a == 4, b == 2, c_0 == 1, c_1 == 2, c_2 == 0, c_3 == 0, c_4 == -1, c_5 == 3] \n",
      "\n",
      "[x == (-3/5), y == (4/5), a == 4, b == 2, c_0 == 3, c_1 == 6, c_2 == 0, c_3 == (-7/3), c_4 == -5, c_5 == 1] \n",
      "\n"
     ]
    }
   ],
   "source": [
    "S = solve(gb, [x, y, a, b, c_0, c_1, c_2, c_3, c_4, c_5])\n",
    "\n",
    "for sol in S:\n",
    "    print sol, '\\n'"
   ]
  },
  {
   "cell_type": "markdown",
   "metadata": {
    "collapsed": true,
    "deletable": true,
    "editable": true
   },
   "source": [
    "## Part V. The rank of the map $\\Psi \\colon f \\mapsto \\operatorname{Spec} f$"
   ]
  },
  {
   "cell_type": "markdown",
   "metadata": {
    "deletable": true,
    "editable": true
   },
   "source": [
    "In order to write down an explicit expression for the map $\\Psi$, we need to write the coordinates $(x,y)$ of the fourth singular point in terms of the variables $c_k$. Given that we know that the conics $P$ and $Q$ intersect at the points $(0,0)$, $(1,0)$ and $(0,1)$, we can compute the fourth point of intersection as a rational function of these variables. This is done below using the command `solve`."
   ]
  },
  {
   "cell_type": "code",
   "execution_count": 32,
   "metadata": {
    "collapsed": true
   },
   "outputs": [],
   "source": [
    "del (t_0, t_1, t_2, t_3, d_0, d_1, d_2, d_3)"
   ]
  },
  {
   "cell_type": "code",
   "execution_count": 37,
   "metadata": {
    "collapsed": false,
    "deletable": true,
    "editable": true
   },
   "outputs": [],
   "source": [
    "# The associated vector field is (P,Q)\n",
    "P = c_0*x^2 + c_1*x*y + c_2*y^2 - c_0*x - c_2*y\n",
    "Q = c_3*x^2 + c_4*x*y + c_5*y^2 - c_3*x - c_5*y"
   ]
  },
  {
   "cell_type": "code",
   "execution_count": 38,
   "metadata": {
    "collapsed": false,
    "deletable": true,
    "editable": true
   },
   "outputs": [
    {
     "data": {
      "text/plain": [
       "[[x == 1, y == 0], [x == (c_0^2*c_5^2 - c_0*c_1*c_5^2 + (c_3^2 - c_3*c_4)*c_2^2 - (c_0*(2*c_3 - c_4)*c_5 - c_1*c_3*c_5)*c_2)/(c_2^2*c_3^2 + c_1^2*c_3*c_5 - c_0*c_1*c_4*c_5 + c_0^2*c_5^2 - (c_1*c_3*c_4 - (c_4^2 - 2*c_3*c_5)*c_0)*c_2), y == (c_2^2*c_3^2 + c_0*c_1*c_3*c_5 - (c_4*c_5 - c_5^2)*c_0^2 - (c_1*c_3^2 - (c_3*c_4 - 2*c_3*c_5)*c_0)*c_2)/(c_2^2*c_3^2 + c_1^2*c_3*c_5 - c_0*c_1*c_4*c_5 + c_0^2*c_5^2 - (c_1*c_3*c_4 - (c_4^2 - 2*c_3*c_5)*c_0)*c_2)], [x == 0, y == 1], [x == 0, y == 0]]"
      ]
     },
     "execution_count": 38,
     "metadata": {},
     "output_type": "execute_result"
    }
   ],
   "source": [
    "solve([P,Q], [x,y])"
   ]
  },
  {
   "cell_type": "markdown",
   "metadata": {
    "deletable": true,
    "editable": true
   },
   "source": [
    "The explicit expression for the coordinates of the fourth singularity are thus:"
   ]
  },
  {
   "cell_type": "code",
   "execution_count": 39,
   "metadata": {
    "collapsed": true,
    "deletable": true,
    "editable": true
   },
   "outputs": [],
   "source": [
    "x = (c_0^2*c_5^2 - c_0*c_1*c_5^2 + (c_3^2 - c_3*c_4)*c_2^2 - (c_0*(2*c_3 - c_4)*c_5 - c_1*c_3*c_5)*c_2)/(c_2^2*c_3^2 + c_1^2*c_3*c_5 - c_0*c_1*c_4*c_5 + c_0^2*c_5^2 - (c_1*c_3*c_4 - (c_4^2 - 2*c_3*c_5)*c_0)*c_2)\n",
    "\n",
    "y = (c_2^2*c_3^2 + c_0*c_1*c_3*c_5 - (c_4*c_5 - c_5^2)*c_0^2 - (c_1*c_3^2 - (c_3*c_4 - 2*c_3*c_5)*c_0)*c_2)/(c_2^2*c_3^2 + c_1^2*c_3*c_5 - c_0*c_1*c_4*c_5 + c_0^2*c_5^2 - (c_1*c_3*c_4 - (c_4^2 - 2*c_3*c_5)*c_0)*c_2)"
   ]
  },
  {
   "cell_type": "code",
   "execution_count": 40,
   "metadata": {
    "collapsed": true,
    "deletable": true,
    "editable": true
   },
   "outputs": [],
   "source": [
    "# Spectra of the associated vector field\n",
    "D_0 = (-c_2*c_3+c_0*c_5)\n",
    "D_1 = (-c_1*c_3+c_2*c_3+c_0*c_4-c_0*c_5)\n",
    "D_2 = (c_2*c_3-c_2*c_4-c_0*c_5+c_1*c_5)\n",
    "D_3 = -D_0*D_1*D_2/(D_0*D_1 + (D_0 + D_1)*D_2)\n",
    "T_0 = (-c_0-c_5)\n",
    "T_1 = (c_0+c_4-c_5)\n",
    "T_2 = (-c_0+c_1+c_5)\n",
    "T_3 = (D_1*D_2*T_0 + D_0*D_2*T_1 + D_0*D_1*T_2)/(D_0*D_1 + (D_0 + D_1)*D_2)"
   ]
  },
  {
   "cell_type": "code",
   "execution_count": 41,
   "metadata": {
    "collapsed": true,
    "deletable": true,
    "editable": true
   },
   "outputs": [],
   "source": [
    "# Spectra of the endomorphism\n",
    "t_0 = T_0\n",
    "t_1 = T_1/(a+1)\n",
    "t_2 = T_2/(b+1)\n",
    "t_3 = T_3/(a*x+b*y+1)\n",
    "d_0 = D_0\n",
    "d_1 = D_1/(a+1)^2\n",
    "d_2 = D_2/(b+1)^2\n",
    "d_3 = D_3/(a*x+b*y+1)^2"
   ]
  },
  {
   "cell_type": "markdown",
   "metadata": {
    "deletable": true,
    "editable": true
   },
   "source": [
    "The map $\\Psi$ is given by $\\Psi(f) = (t_0,t_1,\\ldots,d_3)$"
   ]
  },
  {
   "cell_type": "code",
   "execution_count": 42,
   "metadata": {
    "collapsed": true,
    "deletable": true,
    "editable": true
   },
   "outputs": [],
   "source": [
    "Psi = [t_0, t_1, t_2, t_3, d_0, d_1, d_2, d_3]\n",
    "\n",
    "variables = [a, b, c_0, c_1, c_2, c_3, c_4, c_5]\n",
    "vals = [x==-3/5, y==4/5, a==4, b==2, c_0==1, c_1==2, c_2==0, c_3==0, c_4==-1, c_5==3]"
   ]
  },
  {
   "cell_type": "code",
   "execution_count": 43,
   "metadata": {
    "collapsed": false,
    "deletable": true,
    "editable": true
   },
   "outputs": [],
   "source": [
    "# Compute the jacobian of the map Psi with respect to the variables:\n",
    "DPsi = jacobian(Psi, variables)"
   ]
  },
  {
   "cell_type": "code",
   "execution_count": 44,
   "metadata": {
    "collapsed": false,
    "deletable": true,
    "editable": true,
    "scrolled": true
   },
   "outputs": [
    {
     "data": {
      "text/plain": [
       "[    0     0    -1     0     0     0     0    -1]\n",
       "[ 3/25     0   1/5     0     0     0   1/5  -1/5]\n",
       "[    0  -4/9  -1/3   1/3     0     0     0   1/3]\n",
       "[   27   -36  -195    96  92/3   -72    33    15]\n",
       "[    0     0     3     0     0     0     0     1]\n",
       "[8/125     0 -4/25     0     0 -2/25  1/25 -1/25]\n",
       "[    0  -2/9  -1/3   1/3   1/9     0     0   1/9]\n",
       "[ -360   480  2724 -1392  -464   882  -441  -167]"
      ]
     },
     "execution_count": 44,
     "metadata": {},
     "output_type": "execute_result"
    }
   ],
   "source": [
    "# The derivative of Psi at our example f\n",
    "DPsi.subs(vals)"
   ]
  },
  {
   "cell_type": "code",
   "execution_count": 45,
   "metadata": {
    "collapsed": false,
    "deletable": true,
    "editable": true
   },
   "outputs": [
    {
     "name": "stdout",
     "output_type": "stream",
     "text": [
      "det DPsi(f) =  1024/375\n"
     ]
    }
   ],
   "source": [
    "print 'det DPsi(f) = ', DPsi.subs(vals).determinant()"
   ]
  },
  {
   "cell_type": "markdown",
   "metadata": {
    "deletable": true,
    "editable": true
   },
   "source": [
    "The determinant of $D\\Psi$ at our example $f$ is not zero."
   ]
  }
 ],
 "metadata": {
  "kernelspec": {
   "display_name": "SageMath 8.1",
   "language": "",
   "name": "sagemath"
  },
  "language_info": {
   "codemirror_mode": {
    "name": "ipython",
    "version": 2
   },
   "file_extension": ".py",
   "mimetype": "text/x-python",
   "name": "python",
   "nbconvert_exporter": "python",
   "pygments_lexer": "ipython2",
   "version": "2.7.14"
  }
 },
 "nbformat": 4,
 "nbformat_minor": 2
}
