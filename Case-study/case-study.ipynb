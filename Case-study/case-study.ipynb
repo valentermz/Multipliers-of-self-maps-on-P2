{
 "cells": [
  {
   "cell_type": "markdown",
   "metadata": {
    "deletable": true,
    "editable": true
   },
   "source": [
    "# Case study of a \"sufficiently generic\" example"
   ]
  },
  {
   "cell_type": "markdown",
   "metadata": {
    "deletable": true,
    "editable": true
   },
   "source": [
    "Let us consider the following endomorphsim\n",
    "\n",
    "$f \\;\\colon\\; [z_0:z_1:z_2] \\;\\longmapsto\\; [z_0(z_0 + 4z_1 + 2z_2) : z_1(2z_0 + 3z_1) : z_2(4z_0 + 5z_1 - z_2)]$\n",
    "\n",
    "This map has three invariant lines, but we work with respect to the line $\\{z_0=0\\}$."
   ]
  },
  {
   "cell_type": "markdown",
   "metadata": {
    "deletable": true,
    "editable": true
   },
   "source": [
    "**Remark:** According to the \"normal form\" used in the paper, the above map $f$ is defined by the following coefficients:\n",
    "\n",
    "```python\n",
    "a = 4\n",
    "b = 2\n",
    "c_0 = 1\n",
    "c_1 = 2\n",
    "c_2 = 0\n",
    "c_3 = 0\n",
    "c_4 = -1\n",
    "c_5 = 3\n",
    "```"
   ]
  },
  {
   "cell_type": "code",
   "execution_count": 1,
   "metadata": {
    "collapsed": false,
    "deletable": true,
    "editable": true
   },
   "outputs": [
    {
     "data": {
      "text/plain": [
       "(z_0, z_1, z_2)"
      ]
     },
     "execution_count": 1,
     "metadata": {},
     "output_type": "execute_result"
    }
   ],
   "source": [
    "var('z_0 z_1 z_2')"
   ]
  },
  {
   "cell_type": "code",
   "execution_count": 2,
   "metadata": {
    "collapsed": true,
    "deletable": true,
    "editable": true
   },
   "outputs": [],
   "source": [
    "f_0 = z_0*(z_0 + 4*z_1 + 2*z_2)\n",
    "f_1 = z_1*(2*z_0 + 3*z_1)\n",
    "f_2 = z_2*(4*z_0 + 5*z_1 - z_2)"
   ]
  },
  {
   "cell_type": "markdown",
   "metadata": {
    "deletable": true,
    "editable": true
   },
   "source": [
    "## Part I. Compute the values of the invariants $t_i, d_i$"
   ]
  },
  {
   "cell_type": "markdown",
   "metadata": {
    "collapsed": true,
    "deletable": true,
    "editable": true
   },
   "source": [
    "If we make $z_0=1$ the map $f$ is given by $(f_1/f_0, f_2/f_0)$."
   ]
  },
  {
   "cell_type": "code",
   "execution_count": 3,
   "metadata": {
    "collapsed": true,
    "deletable": true,
    "editable": true
   },
   "outputs": [],
   "source": [
    "F_chart0 = [(f_1/f_0).subs(z_0==1), (f_2/f_0).subs(z_0==1)]"
   ]
  },
  {
   "cell_type": "code",
   "execution_count": 4,
   "metadata": {
    "collapsed": false,
    "deletable": true,
    "editable": true
   },
   "outputs": [
    {
     "data": {
      "text/plain": [
       "[[z_1 == 0, z_2 == 0], [z_1 == 1, z_2 == 0], [z_1 == 0, z_2 == 1], [z_1 == (-3/5), z_2 == (4/5)]]"
      ]
     },
     "execution_count": 4,
     "metadata": {},
     "output_type": "execute_result"
    }
   ],
   "source": [
    "# The fixed points in this chart are:\n",
    "S = solve([F_chart0[0]-z_1, F_chart0[1]-z_2], [z_1,z_2])\n",
    "S"
   ]
  },
  {
   "cell_type": "code",
   "execution_count": 5,
   "metadata": {
    "collapsed": true,
    "deletable": true,
    "editable": true
   },
   "outputs": [],
   "source": [
    "DF_chart0 = matrix([\n",
    "    (diff(F_chart0[0],z_1), diff(F_chart0[0],z_2)),\n",
    "    (diff(F_chart0[1],z_1), diff(F_chart0[1],z_2))\n",
    "]).simplify_rational()"
   ]
  },
  {
   "cell_type": "code",
   "execution_count": 6,
   "metadata": {
    "collapsed": false,
    "deletable": true,
    "editable": true
   },
   "outputs": [
    {
     "name": "stdout",
     "output_type": "stream",
     "text": [
      "I-df at p_0:\n",
      "[-1  0]\n",
      "[ 0 -3]\n",
      "\n",
      "I-df at p_1:\n",
      "[ 1/5  2/5]\n",
      "[   0 -4/5]\n",
      "\n",
      "I-df at p_2:\n",
      "[ 1/3    0]\n",
      "[-1/3    1]\n",
      "\n",
      "I-df at p_3:\n",
      "[-3 -6]\n",
      "[-4 12]\n",
      "\n"
     ]
    }
   ],
   "source": [
    "for k in range(4):\n",
    "    print 'I-df at p_{}:'.format(k)\n",
    "    print (identity_matrix(2) - DF_chart0.subs(S[k]))\n",
    "    print ''"
   ]
  },
  {
   "cell_type": "markdown",
   "metadata": {
    "deletable": true,
    "editable": true
   },
   "source": [
    "The spectra of $f$ in the distinguished affine chart is:"
   ]
  },
  {
   "cell_type": "code",
   "execution_count": 7,
   "metadata": {
    "collapsed": false,
    "deletable": true,
    "editable": true
   },
   "outputs": [
    {
     "name": "stdout",
     "output_type": "stream",
     "text": [
      "t_0 = -4\n",
      "d_0 = 3\n",
      "\n",
      "t_1 = -3/5\n",
      "d_1 = -4/25\n",
      "\n",
      "t_2 = 4/3\n",
      "d_2 = 1/3\n",
      "\n",
      "t_3 = 9\n",
      "d_3 = -60\n",
      "\n"
     ]
    }
   ],
   "source": [
    "t = [(identity_matrix(2) - DF_chart0.subs(s)).trace() for s in S]\n",
    "d = [(identity_matrix(2) - DF_chart0).subs(s).determinant() for s in S]\n",
    "\n",
    "for k in range(4):\n",
    "    print 't_{} = {}'.format(k, t[k])\n",
    "    print 'd_{} = {}\\n'.format(k, d[k])"
   ]
  },
  {
   "cell_type": "markdown",
   "metadata": {
    "deletable": true,
    "editable": true
   },
   "source": [
    "## Part II. Compute the values of the invariants $u_i, v_i$ for $i=4,5,6$"
   ]
  },
  {
   "cell_type": "markdown",
   "metadata": {
    "deletable": true,
    "editable": true
   },
   "source": [
    "If we make $z_1=1$, the map $f$ is given by $(z_0,z_2)\\mapsto(f_0/f_1, f_2/f_1)$"
   ]
  },
  {
   "cell_type": "code",
   "execution_count": 9,
   "metadata": {
    "collapsed": true,
    "deletable": true,
    "editable": true
   },
   "outputs": [],
   "source": [
    "F_chart1 = [(f_0/f_1).subs(z_1==1), (f_2/f_1).subs(z_1==1)]"
   ]
  },
  {
   "cell_type": "code",
   "execution_count": 10,
   "metadata": {
    "collapsed": true,
    "deletable": true,
    "editable": true
   },
   "outputs": [],
   "source": [
    "DF_chart1 = matrix([\n",
    "    (diff(F_chart1[0],z_0), diff(F_chart1[0],z_2)),\n",
    "    (diff(F_chart1[1],z_0), diff(F_chart1[1],z_2))\n",
    "]).simplify_rational()"
   ]
  },
  {
   "cell_type": "code",
   "execution_count": 11,
   "metadata": {
    "collapsed": false,
    "deletable": true,
    "editable": true
   },
   "outputs": [
    {
     "data": {
      "text/plain": [
       "[z_2 == 0, z_2 == 2]"
      ]
     },
     "execution_count": 11,
     "metadata": {},
     "output_type": "execute_result"
    }
   ],
   "source": [
    "# In this chart, the fixed points on the invariant line are given by the zeroes of the following polynomial:\n",
    "delta = (f_2 - z_2*f_1).subs([z_0==0, z_1==1]).expand().factor()\n",
    "solve(delta, z_2)"
   ]
  },
  {
   "cell_type": "markdown",
   "metadata": {
    "deletable": true,
    "editable": true
   },
   "source": [
    "Now let's make $z_2=1$ to look at the fixed point $[0:0:1]$"
   ]
  },
  {
   "cell_type": "code",
   "execution_count": 12,
   "metadata": {
    "collapsed": true,
    "deletable": true,
    "editable": true
   },
   "outputs": [],
   "source": [
    "F_chart2  = [(f_0/f_2).subs(z_2==1), (f_1/f_2).subs(z_2==1)]"
   ]
  },
  {
   "cell_type": "code",
   "execution_count": 13,
   "metadata": {
    "collapsed": true,
    "deletable": true,
    "editable": true
   },
   "outputs": [],
   "source": [
    "DF_chart2 = matrix([\n",
    "    (diff(F_chart2[0],z_0), diff(F_chart2[0],z_1)),\n",
    "    (diff(F_chart2[1],z_0), diff(F_chart2[1],z_1))\n",
    "]).simplify_rational()"
   ]
  },
  {
   "cell_type": "markdown",
   "metadata": {
    "deletable": true,
    "editable": true
   },
   "source": [
    "The spectrum of the following matrices defines the values $(u_i,v_i)$ for $i=4,5,6$."
   ]
  },
  {
   "cell_type": "code",
   "execution_count": 14,
   "metadata": {
    "collapsed": false,
    "deletable": true,
    "editable": true
   },
   "outputs": [
    {
     "name": "stdout",
     "output_type": "stream",
     "text": [
      "I-df at p_4:\n",
      "[-1/3    0]\n",
      "[   0 -2/3] \n",
      "\n",
      "I-df at p_5:\n",
      "[-5/3    0]\n",
      "[-4/3  2/3] \n",
      "\n",
      "I-df at p_6:\n",
      "[3 0]\n",
      "[0 1]\n"
     ]
    }
   ],
   "source": [
    "print 'I-df at p_4:\\n', (identity_matrix(2) - DF_chart1.subs([z_0==0, z_2==0])), '\\n'\n",
    "print 'I-df at p_5:\\n', (identity_matrix(2) - DF_chart1.subs([z_0==0, z_2==2])), '\\n'\n",
    "print 'I-df at p_6:\\n', (identity_matrix(2) - DF_chart2.subs([z_0==0, z_1==0]))"
   ]
  },
  {
   "cell_type": "code",
   "execution_count": 15,
   "metadata": {
    "collapsed": false,
    "deletable": true,
    "editable": true
   },
   "outputs": [
    {
     "name": "stdout",
     "output_type": "stream",
     "text": [
      "u_4 = -2/3\n",
      "v_4 = -1/3\n",
      "\n",
      "u_5 = 2/3\n",
      "v_5 = -5/3\n",
      "\n",
      "u_6 = 1\n",
      "v_6 = 3\n",
      "\n"
     ]
    }
   ],
   "source": [
    "u = ['']*7\n",
    "v = ['']*7\n",
    "\n",
    "u[4] = -2/3; v[4] = -1/3\n",
    "u[5] = 2/3; v[5] = -5/3\n",
    "u[6] = 1; v[6] = 3\n",
    "\n",
    "for k in range(4,7):\n",
    "    print 'u_{} = {}'.format(k,u[k])\n",
    "    print 'v_{} = {}\\n'.format(k,v[k])"
   ]
  },
  {
   "cell_type": "markdown",
   "metadata": {
    "deletable": true,
    "editable": true
   },
   "source": [
    "## Part II. Compute the values of the invariants $p,q,r,s$"
   ]
  },
  {
   "cell_type": "code",
   "execution_count": 16,
   "metadata": {
    "collapsed": true,
    "deletable": true,
    "editable": true
   },
   "outputs": [],
   "source": [
    "p = u[4] + u[5] + u[6]\n",
    "q = u[4]*u[5]*u[6]\n",
    "r = v[4] + v[5] + v[6]\n",
    "s = u[4]*(v[5] + v[6]) + u[5]*(v[4] + v[6]) + u[6]*(v[4] + v[5])"
   ]
  },
  {
   "cell_type": "code",
   "execution_count": 17,
   "metadata": {
    "collapsed": false,
    "deletable": true,
    "editable": true
   },
   "outputs": [],
   "source": [
    "inv_names = ['p', 'q', 'r', 's']\n",
    "invariants = [p, q, r, s]"
   ]
  },
  {
   "cell_type": "code",
   "execution_count": 35,
   "metadata": {
    "collapsed": false,
    "deletable": true,
    "editable": true
   },
   "outputs": [
    {
     "name": "stdout",
     "output_type": "stream",
     "text": [
      "p = 1\n",
      "\n",
      "q = -4/9\n",
      "\n",
      "r = 1\n",
      "\n",
      "s = -10/9\n",
      "\n"
     ]
    }
   ],
   "source": [
    "for k in range(4):\n",
    "    print '{} = {}\\n'.format(inv_names[k], invariants[k])"
   ]
  },
  {
   "cell_type": "markdown",
   "metadata": {
    "deletable": true,
    "editable": true
   },
   "source": [
    "## Part III. Analyze the ideal of equations and compute the polynomials $h$"
   ]
  },
  {
   "cell_type": "markdown",
   "metadata": {
    "deletable": true,
    "editable": true
   },
   "source": [
    "### Gröbner basis for the ideal of relations\n",
    "\n",
    "We have used the values `t,d` obained to compute the Gröbner basis of the ideal of relations in `Macaulay2`.\n",
    "\n",
    "See the code needed to compute this basis in: `Tests/compute-h.m2`  \n",
    "See the output of the program in: `Case-study/case-study_gb-computations_OUTPUT`"
   ]
  },
  {
   "cell_type": "code",
   "execution_count": 19,
   "metadata": {
    "collapsed": false,
    "deletable": true,
    "editable": true
   },
   "outputs": [
    {
     "data": {
      "text/plain": [
       "(x, y, a, b, c_0, c_1, c_2, c_3, c_4, c_5)"
      ]
     },
     "execution_count": 19,
     "metadata": {},
     "output_type": "execute_result"
    }
   ],
   "source": [
    "var('x y a b c_0 c_1 c_2 c_3 c_4 c_5')"
   ]
  },
  {
   "cell_type": "code",
   "execution_count": 20,
   "metadata": {
    "collapsed": false,
    "deletable": true,
    "editable": true,
    "scrolled": false
   },
   "outputs": [],
   "source": [
    "gb = [79596*a-39905*b-238574, 26532*c_4-53064*c_5+7981*b+169762, 38223596345473217398442*c_2-182867265948239009340984*c_3+213345143606278844231148*c_5+5407470166298762216809*b-650850371151434057127062, 3*c_1+6*c_5-4*b-16, c_0+c_5-4, 62977005*y+4931564*b-60244732, 62977005*x-2476192*b+42738587, 347*b^2-4628*b+7868, 33811444235708*c_5*b+379557324161928*c_3-510439766660332*c_5-120014962774839*b+1568480560116426, 194878641128*c_3*b+342885251240*c_3-854749622412*c_5-124941796805*b+2814132460846, 227758858318743035015276*c_5^2+935416089015092731271016*c_3-2002354203792580326543956*c_5-74811527391998085751055*b+4106855941293049835996494, 26721695083852800486621889123104*c_3*c_5+24717126815727978762430705949544*c_3-60011958882844242457228027584756*c_5-6274582532276236815973062560155*b+192585041713085201003630207874578, 46955625384713496315491751447165602201953632*c_3^2+179926771712143141101615812008840061662846824*c_3-82090920116891369093046457293029265945780852*c_5-10529725943566552061050507317495620491207195*b+267332212237807211401240386514079038819756946]"
   ]
  },
  {
   "cell_type": "code",
   "execution_count": 21,
   "metadata": {
    "collapsed": false,
    "deletable": true,
    "editable": true
   },
   "outputs": [
    {
     "name": "stdout",
     "output_type": "stream",
     "text": [
      "gb[0] = 79596*a - 39905*b - 238574\n",
      "\n",
      "gb[1] = 7981*b + 26532*c_4 - 53064*c_5 + 169762\n",
      "\n",
      "gb[2] = 5407470166298762216809*b + 38223596345473217398442*c_2 - 182867265948239009340984*c_3 + 213345143606278844231148*c_5 - 650850371151434057127062\n",
      "\n",
      "gb[3] = -4*b + 3*c_1 + 6*c_5 - 16\n",
      "\n",
      "gb[4] = c_0 + c_5 - 4\n",
      "\n",
      "gb[5] = 4931564*b + 62977005*y - 60244732\n",
      "\n",
      "gb[6] = -2476192*b + 62977005*x + 42738587\n",
      "\n",
      "gb[7] = 347*b^2 - 4628*b + 7868\n",
      "\n",
      "gb[8] = 33811444235708*b*c_5 - 120014962774839*b + 379557324161928*c_3 - 510439766660332*c_5 + 1568480560116426\n",
      "\n",
      "gb[9] = 194878641128*b*c_3 - 124941796805*b + 342885251240*c_3 - 854749622412*c_5 + 2814132460846\n",
      "\n",
      "gb[10] = 227758858318743035015276*c_5^2 - 74811527391998085751055*b + 935416089015092731271016*c_3 - 2002354203792580326543956*c_5 + 4106855941293049835996494\n",
      "\n",
      "gb[11] = 26721695083852800486621889123104*c_3*c_5 - 6274582532276236815973062560155*b + 24717126815727978762430705949544*c_3 - 60011958882844242457228027584756*c_5 + 192585041713085201003630207874578\n",
      "\n",
      "gb[12] = 46955625384713496315491751447165602201953632*c_3^2 - 10529725943566552061050507317495620491207195*b + 179926771712143141101615812008840061662846824*c_3 - 82090920116891369093046457293029265945780852*c_5 + 267332212237807211401240386514079038819756946\n",
      "\n"
     ]
    }
   ],
   "source": [
    "for k in range(len(gb)):\n",
    "    print 'gb[{}] = {}\\n'.format(k, gb[k])"
   ]
  },
  {
   "cell_type": "code",
   "execution_count": 22,
   "metadata": {
    "collapsed": true,
    "deletable": true,
    "editable": true
   },
   "outputs": [],
   "source": [
    "vals = [x==-3/5, y==4/5, a==4, b==2, c_0==1, c_1==2, c_2==0, c_3==0, c_4==-1, c_5==3]"
   ]
  },
  {
   "cell_type": "code",
   "execution_count": 36,
   "metadata": {
    "collapsed": false,
    "deletable": true,
    "editable": true
   },
   "outputs": [
    {
     "data": {
      "text/plain": [
       "True"
      ]
     },
     "execution_count": 36,
     "metadata": {},
     "output_type": "execute_result"
    }
   ],
   "source": [
    "# Sanity check: evaluation of gb in the actual values of the variables should return only zeroes...\n",
    "matrix(gb).subs(vals) == 0"
   ]
  },
  {
   "cell_type": "markdown",
   "metadata": {
    "deletable": true,
    "editable": true
   },
   "source": [
    "### Polynomials $h$\n",
    "\n",
    "The polynomials $h$ have all been computed in `Macaulay2`. These computations can be found in:  \n",
    "`Case-study/case-study_gb-computations_OUTPUT`,  \n",
    "`Tests/compute-h.m2`."
   ]
  },
  {
   "cell_type": "markdown",
   "metadata": {
    "deletable": true,
    "editable": true
   },
   "source": [
    "```python\n",
    "3304458636693875651644773*p^4-23379088345478790415995340*p^3+49551679403386908799808694*p^2-39615490609470050079352860*p+10138440914868056043894733\n",
    "\n",
    "802983448716611783349679839*q^4+6057061832873045850450465888*q^3+8220892437890168859863219744*q^2+1049813648791026016967518720*q-656868792374273004661408000\n",
    "\n",
    "3304458636693875651644773*r^4+236886089402261035384796*r^3-2361480475447712921087794*r^2-1054408391045835895722692*r-125455859602587870219083\n",
    "\n",
    "802983448716611783349679839*s^4-255708691033085259944247216*s^3-1889198858093497242051156664*s^2-605423311222765579888256320*s+85011752062106601163535600\n",
    "\n",
    "26274751694970920186456320*L^4+94275721578806753529358848*L^3-17265887126737504551324576*L^2-4956000619661939685762720*L-146992900906669947540975\n",
    "\n",
    "```"
   ]
  },
  {
   "cell_type": "markdown",
   "metadata": {
    "deletable": true,
    "editable": true
   },
   "source": [
    "## Part IV. Compute the other endomorphisms that share affine spectra"
   ]
  },
  {
   "cell_type": "markdown",
   "metadata": {
    "deletable": true,
    "editable": true
   },
   "source": [
    "### A Gröbner basis for the ideal of all relations"
   ]
  },
  {
   "cell_type": "code",
   "execution_count": 24,
   "metadata": {
    "collapsed": true,
    "deletable": true,
    "editable": true
   },
   "outputs": [],
   "source": [
    "# Same polynomials as above, computed in M2\n",
    "gb = [79596*a-39905*b-238574, 26532*c_4-53064*c_5+7981*b+169762, 38223596345473217398442*c_2-182867265948239009340984*c_3+213345143606278844231148*c_5+5407470166298762216809*b-650850371151434057127062, 3*c_1+6*c_5-4*b-16, c_0+c_5-4, 62977005*y+4931564*b-60244732, 62977005*x-2476192*b+42738587, 347*b^2-4628*b+7868, 33811444235708*c_5*b+379557324161928*c_3-510439766660332*c_5-120014962774839*b+1568480560116426, 194878641128*c_3*b+342885251240*c_3-854749622412*c_5-124941796805*b+2814132460846, 227758858318743035015276*c_5^2+935416089015092731271016*c_3-2002354203792580326543956*c_5-74811527391998085751055*b+4106855941293049835996494, 26721695083852800486621889123104*c_3*c_5+24717126815727978762430705949544*c_3-60011958882844242457228027584756*c_5-6274582532276236815973062560155*b+192585041713085201003630207874578, 46955625384713496315491751447165602201953632*c_3^2+179926771712143141101615812008840061662846824*c_3-82090920116891369093046457293029265945780852*c_5-10529725943566552061050507317495620491207195*b+267332212237807211401240386514079038819756946]"
   ]
  },
  {
   "cell_type": "markdown",
   "metadata": {
    "deletable": true,
    "editable": true
   },
   "source": [
    "### We now recover the four endomorphisms with given `t,d` using `solve`"
   ]
  },
  {
   "cell_type": "code",
   "execution_count": 25,
   "metadata": {
    "collapsed": false,
    "deletable": true,
    "editable": true
   },
   "outputs": [
    {
     "name": "stdout",
     "output_type": "stream",
     "text": [
      "[x == (-1629507/6997445), y == (481636/6997445), a == (6398/737), b == (3934/347), c_0 == 1/1638011917*sqrt(4537169131306335409) + 478212014/1638011917, c_1 == 2/1638011917*sqrt(4537169131306335409) + 7408090619156/568390135199, c_2 == 3122005051440/1285121980778978763877*sqrt(4537169131306335409) - 2508185118075640977600/1285121980778978763877, c_3 == -1176976662607/5756661297795093534222*sqrt(4537169131306335409) + 3996350803241780508071/5756661297795093534222, c_4 == -2/1638011917*sqrt(4537169131306335409) - 2888354393997/1207214782829, c_5 == -1/1638011917*sqrt(4537169131306335409) + 6073835654/1638011917] \n",
      "\n",
      "[x == (-1629507/6997445), y == (481636/6997445), a == (6398/737), b == (3934/347), c_0 == -1/1638011917*sqrt(4537169131306335409) + 478212014/1638011917, c_1 == -2/1638011917*sqrt(4537169131306335409) + 7408090619156/568390135199, c_2 == -3122005051440/1285121980778978763877*sqrt(4537169131306335409) - 2508185118075640977600/1285121980778978763877, c_3 == 1176976662607/5756661297795093534222*sqrt(4537169131306335409) + 3996350803241780508071/5756661297795093534222, c_4 == 2/1638011917*sqrt(4537169131306335409) - 2888354393997/1207214782829, c_5 == 1/1638011917*sqrt(4537169131306335409) + 6073835654/1638011917] \n",
      "\n",
      "[x == (-3/5), y == (4/5), a == 4, b == 2, c_0 == 1, c_1 == 2, c_2 == 0, c_3 == 0, c_4 == -1, c_5 == 3] \n",
      "\n",
      "[x == (-3/5), y == (4/5), a == 4, b == 2, c_0 == 3, c_1 == 6, c_2 == 0, c_3 == (-7/3), c_4 == -5, c_5 == 1] \n",
      "\n"
     ]
    }
   ],
   "source": [
    "S = solve(gb, [x, y, a, b, c_0, c_1, c_2, c_3, c_4, c_5])\n",
    "\n",
    "for sol in S:\n",
    "    print sol, '\\n'"
   ]
  },
  {
   "cell_type": "markdown",
   "metadata": {
    "collapsed": true,
    "deletable": true,
    "editable": true
   },
   "source": [
    "## Part V. The rank of the map $\\Psi \\colon f \\mapsto \\operatorname{Spec} f$"
   ]
  },
  {
   "cell_type": "markdown",
   "metadata": {
    "deletable": true,
    "editable": true
   },
   "source": [
    "In order to write down an explicit expression for the map $\\Psi$, we need to write the coordinates $(x,y)$ of the fourth singular point in terms of the variables $c_k$. Given that we know that the conics $P$ and $Q$ intersect at the points $(0,0)$, $(1,0)$ and $(0,1)$, we can compute the fourth point of intersection as a rational function of these variables. This is done below using the command `solve`."
   ]
  },
  {
   "cell_type": "code",
   "execution_count": 26,
   "metadata": {
    "collapsed": false,
    "deletable": true,
    "editable": true
   },
   "outputs": [],
   "source": [
    "# The associated vector field is (P,Q)\n",
    "P = c_0*x^2 + c_1*x*y + c_2*y^2 - c_0*x - c_2*y\n",
    "Q = c_3*x^2 + c_4*x*y + c_5*y^2 - c_3*x - c_5*y"
   ]
  },
  {
   "cell_type": "code",
   "execution_count": 27,
   "metadata": {
    "collapsed": false,
    "deletable": true,
    "editable": true
   },
   "outputs": [
    {
     "data": {
      "text/plain": [
       "[[x == 1, y == 0], [x == (c_0^2*c_5^2 - c_0*c_1*c_5^2 + (c_3^2 - c_3*c_4)*c_2^2 - (c_0*(2*c_3 - c_4)*c_5 - c_1*c_3*c_5)*c_2)/(c_2^2*c_3^2 + c_1^2*c_3*c_5 - c_0*c_1*c_4*c_5 + c_0^2*c_5^2 - (c_1*c_3*c_4 - (c_4^2 - 2*c_3*c_5)*c_0)*c_2), y == (c_2^2*c_3^2 + c_0*c_1*c_3*c_5 - (c_4*c_5 - c_5^2)*c_0^2 - (c_1*c_3^2 - (c_3*c_4 - 2*c_3*c_5)*c_0)*c_2)/(c_2^2*c_3^2 + c_1^2*c_3*c_5 - c_0*c_1*c_4*c_5 + c_0^2*c_5^2 - (c_1*c_3*c_4 - (c_4^2 - 2*c_3*c_5)*c_0)*c_2)], [x == 0, y == 1], [x == 0, y == 0]]"
      ]
     },
     "execution_count": 27,
     "metadata": {},
     "output_type": "execute_result"
    }
   ],
   "source": [
    "solve([P,Q], [x,y])"
   ]
  },
  {
   "cell_type": "markdown",
   "metadata": {},
   "source": [
    "The explicit expression for the coordinates of the fourth singularity are thus:"
   ]
  },
  {
   "cell_type": "code",
   "execution_count": 28,
   "metadata": {
    "collapsed": true,
    "deletable": true,
    "editable": true
   },
   "outputs": [],
   "source": [
    "x = (c_0^2*c_5^2 - c_0*c_1*c_5^2 + (c_3^2 - c_3*c_4)*c_2^2 - (c_0*(2*c_3 - c_4)*c_5 - c_1*c_3*c_5)*c_2)/(c_2^2*c_3^2 + c_1^2*c_3*c_5 - c_0*c_1*c_4*c_5 + c_0^2*c_5^2 - (c_1*c_3*c_4 - (c_4^2 - 2*c_3*c_5)*c_0)*c_2)\n",
    "\n",
    "y = (c_2^2*c_3^2 + c_0*c_1*c_3*c_5 - (c_4*c_5 - c_5^2)*c_0^2 - (c_1*c_3^2 - (c_3*c_4 - 2*c_3*c_5)*c_0)*c_2)/(c_2^2*c_3^2 + c_1^2*c_3*c_5 - c_0*c_1*c_4*c_5 + c_0^2*c_5^2 - (c_1*c_3*c_4 - (c_4^2 - 2*c_3*c_5)*c_0)*c_2)"
   ]
  },
  {
   "cell_type": "code",
   "execution_count": 29,
   "metadata": {
    "collapsed": true,
    "deletable": true,
    "editable": true
   },
   "outputs": [],
   "source": [
    "# Spectra of the associated vector field\n",
    "D_0 = (-c_2*c_3+c_0*c_5)\n",
    "D_1 = (-c_1*c_3+c_2*c_3+c_0*c_4-c_0*c_5)\n",
    "D_2 = (c_2*c_3-c_2*c_4-c_0*c_5+c_1*c_5)\n",
    "D_3 = -D_0*D_1*D_2/(D_0*D_1 + (D_0 + D_1)*D_2)\n",
    "T_0 = (-c_0-c_5)\n",
    "T_1 = (c_0+c_4-c_5)\n",
    "T_2 = (-c_0+c_1+c_5)\n",
    "T_3 = (D_1*D_2*T_0 + D_0*D_2*T_1 + D_0*D_1*T_2)/(D_0*D_1 + (D_0 + D_1)*D_2)"
   ]
  },
  {
   "cell_type": "code",
   "execution_count": 30,
   "metadata": {
    "collapsed": true,
    "deletable": true,
    "editable": true
   },
   "outputs": [],
   "source": [
    "# Spectra of the endomorphism\n",
    "t_0 = T_0\n",
    "t_1 = T_1/(a+1)\n",
    "t_2 = T_2/(b+1)\n",
    "t_3 = T_3/(a*x+b*y+1)\n",
    "d_0 = D_0\n",
    "d_1 = D_1/(a+1)^2\n",
    "d_2 = D_2/(b+1)^2\n",
    "d_3 = D_3/(a*x+b*y+1)^2"
   ]
  },
  {
   "cell_type": "markdown",
   "metadata": {
    "deletable": true,
    "editable": true
   },
   "source": [
    "The map $\\Psi$ is given by $\\Psi(f) = (t_0,t_1,\\ldots,d_3)$"
   ]
  },
  {
   "cell_type": "code",
   "execution_count": 31,
   "metadata": {
    "collapsed": true,
    "deletable": true,
    "editable": true
   },
   "outputs": [],
   "source": [
    "Psi = [t_0, t_1, t_2, t_3, d_0, d_1, d_2, d_3]\n",
    "\n",
    "variables = [a, b, c_0, c_1, c_2, c_3, c_4, c_5]"
   ]
  },
  {
   "cell_type": "code",
   "execution_count": 32,
   "metadata": {
    "collapsed": false,
    "deletable": true,
    "editable": true
   },
   "outputs": [],
   "source": [
    "# Compute the jacobian of the map Psi with respect to the variables:\n",
    "DPsi = jacobian(Psi, variables)"
   ]
  },
  {
   "cell_type": "code",
   "execution_count": 33,
   "metadata": {
    "collapsed": false,
    "deletable": true,
    "editable": true,
    "scrolled": true
   },
   "outputs": [
    {
     "data": {
      "text/plain": [
       "[    0     0    -1     0     0     0     0    -1]\n",
       "[ 3/25     0   1/5     0     0     0   1/5  -1/5]\n",
       "[    0  -4/9  -1/3   1/3     0     0     0   1/3]\n",
       "[   27   -36  -195    96  92/3   -72    33    15]\n",
       "[    0     0     3     0     0     0     0     1]\n",
       "[8/125     0 -4/25     0     0 -2/25  1/25 -1/25]\n",
       "[    0  -2/9  -1/3   1/3   1/9     0     0   1/9]\n",
       "[ -360   480  2724 -1392  -464   882  -441  -167]"
      ]
     },
     "execution_count": 33,
     "metadata": {},
     "output_type": "execute_result"
    }
   ],
   "source": [
    "# The derivative of Psi at our example f\n",
    "DPsi.subs(vals)"
   ]
  },
  {
   "cell_type": "code",
   "execution_count": 37,
   "metadata": {
    "collapsed": false,
    "deletable": true,
    "editable": true
   },
   "outputs": [
    {
     "name": "stdout",
     "output_type": "stream",
     "text": [
      "det DPsi(f) =  1024/375\n"
     ]
    }
   ],
   "source": [
    "print 'det DPsi(f) = ', DPsi.subs(vals).determinant()"
   ]
  },
  {
   "cell_type": "markdown",
   "metadata": {
    "deletable": true,
    "editable": true
   },
   "source": [
    "The determinant of $D\\Psi$ at our example $f$ is not zero."
   ]
  }
 ],
 "metadata": {
  "kernelspec": {
   "display_name": "SageMath 8.1",
   "language": "",
   "name": "sagemath"
  },
  "language_info": {
   "codemirror_mode": {
    "name": "ipython",
    "version": 2
   },
   "file_extension": ".py",
   "mimetype": "text/x-python",
   "name": "python",
   "nbconvert_exporter": "python",
   "pygments_lexer": "ipython2",
   "version": "2.7.14"
  }
 },
 "nbformat": 4,
 "nbformat_minor": 2
}
